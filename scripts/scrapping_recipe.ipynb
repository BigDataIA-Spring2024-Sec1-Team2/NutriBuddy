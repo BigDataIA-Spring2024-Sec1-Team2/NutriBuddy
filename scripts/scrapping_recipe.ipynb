{
  "nbformat": 4,
  "nbformat_minor": 0,
  "metadata": {
    "colab": {
      "provenance": []
    },
    "kernelspec": {
      "name": "python3",
      "display_name": "Python 3"
    },
    "language_info": {
      "name": "python"
    }
  },
  "cells": [
    {
      "cell_type": "code",
      "source": [
        "! pip install recipe-scrapers"
      ],
      "metadata": {
        "colab": {
          "base_uri": "https://localhost:8080/"
        },
        "id": "mWjOw00_t9sG",
        "outputId": "94cce037-26f9-4ae6-d966-b9c52a6dd95f"
      },
      "execution_count": 24,
      "outputs": [
        {
          "output_type": "stream",
          "name": "stdout",
          "text": [
            "Requirement already satisfied: recipe-scrapers in /usr/local/lib/python3.10/dist-packages (14.55.0)\n",
            "Requirement already satisfied: beautifulsoup4>=4.10.0 in /usr/local/lib/python3.10/dist-packages (from recipe-scrapers) (4.12.3)\n",
            "Requirement already satisfied: extruct>=0.8.0 in /usr/local/lib/python3.10/dist-packages (from recipe-scrapers) (0.16.0)\n",
            "Requirement already satisfied: isodate>=0.6.1 in /usr/local/lib/python3.10/dist-packages (from recipe-scrapers) (0.6.1)\n",
            "Requirement already satisfied: requests>=2.19.1 in /usr/local/lib/python3.10/dist-packages (from recipe-scrapers) (2.31.0)\n",
            "Requirement already satisfied: soupsieve>1.2 in /usr/local/lib/python3.10/dist-packages (from beautifulsoup4>=4.10.0->recipe-scrapers) (2.5)\n",
            "Requirement already satisfied: lxml in /usr/local/lib/python3.10/dist-packages (from extruct>=0.8.0->recipe-scrapers) (4.9.4)\n",
            "Requirement already satisfied: pyrdfa3 in /usr/local/lib/python3.10/dist-packages (from extruct>=0.8.0->recipe-scrapers) (3.6.2)\n",
            "Requirement already satisfied: mf2py in /usr/local/lib/python3.10/dist-packages (from extruct>=0.8.0->recipe-scrapers) (2.0.1)\n",
            "Requirement already satisfied: w3lib in /usr/local/lib/python3.10/dist-packages (from extruct>=0.8.0->recipe-scrapers) (2.1.2)\n",
            "Requirement already satisfied: html-text>=0.5.1 in /usr/local/lib/python3.10/dist-packages (from extruct>=0.8.0->recipe-scrapers) (0.6.0)\n",
            "Requirement already satisfied: six in /usr/local/lib/python3.10/dist-packages (from extruct>=0.8.0->recipe-scrapers) (1.16.0)\n",
            "Requirement already satisfied: jstyleson in /usr/local/lib/python3.10/dist-packages (from extruct>=0.8.0->recipe-scrapers) (0.0.2)\n",
            "Requirement already satisfied: rdflib>=6.0.0 in /usr/local/lib/python3.10/dist-packages (from extruct>=0.8.0->recipe-scrapers) (7.0.0)\n",
            "Requirement already satisfied: charset-normalizer<4,>=2 in /usr/local/lib/python3.10/dist-packages (from requests>=2.19.1->recipe-scrapers) (3.3.2)\n",
            "Requirement already satisfied: idna<4,>=2.5 in /usr/local/lib/python3.10/dist-packages (from requests>=2.19.1->recipe-scrapers) (3.6)\n",
            "Requirement already satisfied: urllib3<3,>=1.21.1 in /usr/local/lib/python3.10/dist-packages (from requests>=2.19.1->recipe-scrapers) (2.0.7)\n",
            "Requirement already satisfied: certifi>=2017.4.17 in /usr/local/lib/python3.10/dist-packages (from requests>=2.19.1->recipe-scrapers) (2024.2.2)\n",
            "Requirement already satisfied: pyparsing<4,>=2.1.0 in /usr/local/lib/python3.10/dist-packages (from rdflib>=6.0.0->extruct>=0.8.0->recipe-scrapers) (3.1.2)\n",
            "Requirement already satisfied: html5lib<2.0,>=1.1 in /usr/local/lib/python3.10/dist-packages (from mf2py->extruct>=0.8.0->recipe-scrapers) (1.1)\n",
            "Requirement already satisfied: webencodings in /usr/local/lib/python3.10/dist-packages (from html5lib<2.0,>=1.1->mf2py->extruct>=0.8.0->recipe-scrapers) (0.5.1)\n",
            "\u001b[33mWARNING: lxml 4.9.4 does not provide the extra 'html_clean'\u001b[0m\u001b[33m\n",
            "\u001b[0m"
          ]
        }
      ]
    },
    {
      "cell_type": "code",
      "execution_count": 25,
      "metadata": {
        "id": "g97cwhlstXjK"
      },
      "outputs": [],
      "source": [
        "import pandas as pd"
      ]
    },
    {
      "cell_type": "code",
      "source": [
        "from recipe_scrapers import scrape_me\n",
        "\n",
        "\n",
        "scraper = scrape_me(pd['recipe_urls'][0])\n",
        "\n"
      ],
      "metadata": {
        "id": "QSLtwH29uKQY"
      },
      "execution_count": null,
      "outputs": []
    },
    {
      "cell_type": "code",
      "source": [
        "scraper = scrape_me('https://www.epicurious.com/recipes/food/views/kimchi-carbonara')"
      ],
      "metadata": {
        "id": "-BjWrnae6qFX"
      },
      "execution_count": 26,
      "outputs": []
    },
    {
      "cell_type": "code",
      "source": [
        "scraper.ingredients()"
      ],
      "metadata": {
        "colab": {
          "base_uri": "https://localhost:8080/"
        },
        "id": "35zbjh53uy_6",
        "outputId": "4e5c0b07-e33d-47bb-fce7-dbd0c0e34cce"
      },
      "execution_count": 27,
      "outputs": [
        {
          "output_type": "execute_result",
          "data": {
            "text/plain": [
              "['2 Tbsp. Diamond Crystal or 1 Tbsp. plus ½ tsp. Morton kosher salt',\n",
              " '4 large eggs',\n",
              " '4 oz. Pecorino Romano or Parmesan, finely grated (about 2 cups), plus more for serving',\n",
              " '1 tsp. freshly ground pepper, plus cracked for serving',\n",
              " '8 oz. guanciale',\n",
              " '1 Tbsp. extra-virgin olive oil',\n",
              " '2 cups Napa cabbage kimchi, drained and chopped into 1\" pieces',\n",
              " '1 lb. spaghetti, spaghettoni, bucatini, or rigatoni']"
            ]
          },
          "metadata": {},
          "execution_count": 27
        }
      ]
    },
    {
      "cell_type": "code",
      "source": [
        "scraper.host()"
      ],
      "metadata": {
        "colab": {
          "base_uri": "https://localhost:8080/",
          "height": 35
        },
        "id": "tP16WOlGu3hm",
        "outputId": "8b73e5db-60c4-4373-d768-b4f2b62bde91"
      },
      "execution_count": 28,
      "outputs": [
        {
          "output_type": "execute_result",
          "data": {
            "text/plain": [
              "'epicurious.com'"
            ],
            "application/vnd.google.colaboratory.intrinsic+json": {
              "type": "string"
            }
          },
          "metadata": {},
          "execution_count": 28
        }
      ]
    },
    {
      "cell_type": "code",
      "source": [
        "scraper.title()"
      ],
      "metadata": {
        "colab": {
          "base_uri": "https://localhost:8080/",
          "height": 35
        },
        "id": "xRGS36B-vgob",
        "outputId": "ec1e09dd-f4b0-4ed0-d190-b7e79d5953a2"
      },
      "execution_count": 29,
      "outputs": [
        {
          "output_type": "execute_result",
          "data": {
            "text/plain": [
              "'Kimchi Carbonara'"
            ],
            "application/vnd.google.colaboratory.intrinsic+json": {
              "type": "string"
            }
          },
          "metadata": {},
          "execution_count": 29
        }
      ]
    },
    {
      "cell_type": "code",
      "source": [
        "scraper.total_time()"
      ],
      "metadata": {
        "colab": {
          "base_uri": "https://localhost:8080/"
        },
        "id": "tiFLSxxdvh_W",
        "outputId": "6094aa75-c0d2-42df-baeb-ad2cb631f4b1"
      },
      "execution_count": 30,
      "outputs": [
        {
          "output_type": "execute_result",
          "data": {
            "text/plain": [
              "40.0"
            ]
          },
          "metadata": {},
          "execution_count": 30
        }
      ]
    },
    {
      "cell_type": "code",
      "source": [
        "\n",
        "scraper.image()"
      ],
      "metadata": {
        "id": "YiL6tzKDvmwa",
        "colab": {
          "base_uri": "https://localhost:8080/",
          "height": 35
        },
        "outputId": "544d5900-313d-414c-aeea-be481339a3d4"
      },
      "execution_count": 31,
      "outputs": [
        {
          "output_type": "execute_result",
          "data": {
            "text/plain": [
              "'https://assets.epicurious.com/photos/65f201c8461d431aa4c7aafc/16:9/w_3744,h_2106,c_limit/Kimchi%20Carbonara_RECIPE_Dan%20Liberti_VOG_final.jpg'"
            ],
            "application/vnd.google.colaboratory.intrinsic+json": {
              "type": "string"
            }
          },
          "metadata": {},
          "execution_count": 31
        }
      ]
    },
    {
      "cell_type": "code",
      "source": [
        "\n",
        "scraper.ingredients()"
      ],
      "metadata": {
        "colab": {
          "base_uri": "https://localhost:8080/"
        },
        "id": "Y0GtAJeRvpId",
        "outputId": "1000d90e-058e-49fd-cb58-9981ba24a85a"
      },
      "execution_count": 32,
      "outputs": [
        {
          "output_type": "execute_result",
          "data": {
            "text/plain": [
              "['2 Tbsp. Diamond Crystal or 1 Tbsp. plus ½ tsp. Morton kosher salt',\n",
              " '4 large eggs',\n",
              " '4 oz. Pecorino Romano or Parmesan, finely grated (about 2 cups), plus more for serving',\n",
              " '1 tsp. freshly ground pepper, plus cracked for serving',\n",
              " '8 oz. guanciale',\n",
              " '1 Tbsp. extra-virgin olive oil',\n",
              " '2 cups Napa cabbage kimchi, drained and chopped into 1\" pieces',\n",
              " '1 lb. spaghetti, spaghettoni, bucatini, or rigatoni']"
            ]
          },
          "metadata": {},
          "execution_count": 32
        }
      ]
    },
    {
      "cell_type": "code",
      "source": [
        "print(links)"
      ],
      "metadata": {
        "colab": {
          "base_uri": "https://localhost:8080/"
        },
        "id": "YtfRUkhBvtT7",
        "outputId": "ce75bbd9-c4dc-4858-dfc4-d6e710a93c77"
      },
      "execution_count": null,
      "outputs": [
        {
          "output_type": "execute_result",
          "data": {
            "text/plain": [
              "0     https://www.bbcgoodfood.com/recipes/protein-pa...\n",
              "1     https://www.bbcgoodfood.com/recipes/chicken-ch...\n",
              "2     https://www.bbcgoodfood.com/recipes/lemon-driz...\n",
              "3     https://www.bbcgoodfood.com/recipes/chilli-con...\n",
              "4     https://www.bbcgoodfood.com/recipes/best-ever-...\n",
              "5     https://www.bbcgoodfood.com/recipes/classic-vi...\n",
              "6     https://www.bbcgoodfood.com/recipes/creamy-cou...\n",
              "7     https://www.bbcgoodfood.com/recipes/chicken-no...\n",
              "8     https://www.bbcgoodfood.com/recipes/naughty-ch...\n",
              "9     https://www.bbcgoodfood.com/recipes/satay-swee...\n",
              "10    https://www.bbcgoodfood.com/recipes/chicken-pa...\n",
              "11    https://www.bbcgoodfood.com/recipes/brilliant-...\n",
              "12    https://www.bbcgoodfood.com/recipes/best-spagh...\n",
              "13    https://www.bbcgoodfood.com/recipes/chorizo-mo...\n",
              "14    https://www.bbcgoodfood.com/recipes/burnt-aube...\n",
              "15    https://www.bbcgoodfood.com/recipes/spinach-sw...\n",
              "16    https://www.bbcgoodfood.com/recipes/easiest-ev...\n",
              "17      https://www.bbcgoodfood.com/recipes/carrot-cake\n",
              "18    https://www.bbcgoodfood.com/recipes/classic-sc...\n",
              "19    https://www.bbcgoodfood.com/recipes/ultimate-c...\n",
              "20    https://www.bbcgoodfood.com/recipes/double-bea...\n",
              "21    https://www.bbcgoodfood.com/recipes/yummy-scru...\n",
              "22    https://www.bbcgoodfood.com/recipes/mushroom-r...\n",
              "23    https://www.bbcgoodfood.com/recipes/spiced-car...\n",
              "24    https://www.bbcgoodfood.com/recipes/vintage-ch...\n",
              "25    https://www.bbcgoodfood.com/recipes/chocolate-...\n",
              "26    https://www.bbcgoodfood.com/recipes/chicken-ar...\n",
              "27    https://www.bbcgoodfood.com/recipes/slow-cooke...\n",
              "28    https://www.bbcgoodfood.com/recipes/chicken-sa...\n",
              "29    https://www.bbcgoodfood.com/recipes/sams-toad-...\n",
              "30    https://www.bbcgoodfood.com/recipes/best-yorks...\n",
              "31    https://www.bbcgoodfood.com/recipes/protein-pa...\n",
              "32    https://www.bbcgoodfood.com/recipes/butternut-...\n",
              "33    https://www.bbcgoodfood.com/recipes/chicken-pa...\n",
              "34    https://www.bbcgoodfood.com/recipes/one-pan-sa...\n",
              "35    https://www.bbcgoodfood.com/recipes/chorizo-mo...\n",
              "36    https://www.bbcgoodfood.com/recipes/broccoli-s...\n",
              "37    https://www.bbcgoodfood.com/recipes/chicken-mu...\n",
              "38    https://www.bbcgoodfood.com/recipes/slow-cooke...\n",
              "39    https://www.bbcgoodfood.com/recipes/chicken-sw...\n",
              "40    https://www.bbcgoodfood.com/recipes/crispy-gre...\n",
              "41    https://www.bbcgoodfood.com/recipes/chinese-ch...\n",
              "42    https://www.bbcgoodfood.com/recipes/strawberry...\n",
              "43    https://www.bbcgoodfood.com/recipes/sausage-be...\n",
              "44    https://www.bbcgoodfood.com/recipes/smoked-had...\n",
              "45      https://www.bbcgoodfood.com/recipes/tomato-soup\n",
              "46    https://www.bbcgoodfood.com/recipes/family-mea...\n",
              "47     https://www.bbcgoodfood.com/recipes/kadala-curry\n",
              "48    https://www.bbcgoodfood.com/recipes/fish-pie-f...\n",
              "49    https://www.bbcgoodfood.com/recipes/chicken-ja...\n",
              "50    https://www.bbcgoodfood.com/recipes/leek-potat...\n",
              "51    https://www.bbcgoodfood.com/recipes/easy-risot...\n",
              "52    https://www.bbcgoodfood.com/recipes/mushroom-r...\n",
              "53    https://www.bbcgoodfood.com/recipes/thai-pork-...\n",
              "54    https://www.bbcgoodfood.com/recipes/sea-bass-s...\n",
              "55     https://www.bbcgoodfood.com/recipes/sausage-ragu\n",
              "Name: recipe_urls, dtype: object"
            ]
          },
          "metadata": {},
          "execution_count": 20
        }
      ]
    },
    {
      "cell_type": "code",
      "source": [
        "meals_dictionary = {'dish_name': scraper.title(),\n",
        "                    'ingredients': scraper.ingredients(),\n",
        "                    'time': str(scraper.title()) + ' min' }"
      ],
      "metadata": {
        "id": "DmUk5lqevxBm"
      },
      "execution_count": 36,
      "outputs": []
    },
    {
      "cell_type": "code",
      "source": [
        "meals_dictionary"
      ],
      "metadata": {
        "colab": {
          "base_uri": "https://localhost:8080/"
        },
        "id": "5s5o6g8R9kRe",
        "outputId": "60bebc76-7a1c-4dde-bd53-b76a777b1a0f"
      },
      "execution_count": 37,
      "outputs": [
        {
          "output_type": "execute_result",
          "data": {
            "text/plain": [
              "{'dish_name': 'Kimchi Carbonara',\n",
              " 'ingredients': ['2 Tbsp. Diamond Crystal or 1 Tbsp. plus ½ tsp. Morton kosher salt',\n",
              "  '4 large eggs',\n",
              "  '4 oz. Pecorino Romano or Parmesan, finely grated (about 2 cups), plus more for serving',\n",
              "  '1 tsp. freshly ground pepper, plus cracked for serving',\n",
              "  '8 oz. guanciale',\n",
              "  '1 Tbsp. extra-virgin olive oil',\n",
              "  '2 cups Napa cabbage kimchi, drained and chopped into 1\" pieces',\n",
              "  '1 lb. spaghetti, spaghettoni, bucatini, or rigatoni'],\n",
              " 'time': 'Kimchi Carbonara min'}"
            ]
          },
          "metadata": {},
          "execution_count": 37
        }
      ]
    },
    {
      "cell_type": "code",
      "source": [],
      "metadata": {
        "id": "EYNFgi2f9ljT"
      },
      "execution_count": null,
      "outputs": []
    }
  ]
}